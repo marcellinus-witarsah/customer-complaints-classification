{
 "cells": [
  {
   "cell_type": "code",
   "execution_count": 2,
   "metadata": {},
   "outputs": [],
   "source": [
    "import pandas as pd"
   ]
  },
  {
   "cell_type": "code",
   "execution_count": 8,
   "metadata": {},
   "outputs": [
    {
     "data": {
      "text/html": [
       "<div>\n",
       "<style scoped>\n",
       "    .dataframe tbody tr th:only-of-type {\n",
       "        vertical-align: middle;\n",
       "    }\n",
       "\n",
       "    .dataframe tbody tr th {\n",
       "        vertical-align: top;\n",
       "    }\n",
       "\n",
       "    .dataframe thead th {\n",
       "        text-align: right;\n",
       "    }\n",
       "</style>\n",
       "<table border=\"1\" class=\"dataframe\">\n",
       "  <thead>\n",
       "    <tr style=\"text-align: right;\">\n",
       "      <th></th>\n",
       "      <th>complaint_what_happened</th>\n",
       "      <th>topic</th>\n",
       "    </tr>\n",
       "  </thead>\n",
       "  <tbody>\n",
       "    <tr>\n",
       "      <th>0</th>\n",
       "      <td>Good morning my name is XXXX XXXX and I apprec...</td>\n",
       "      <td>Bank Account services</td>\n",
       "    </tr>\n",
       "    <tr>\n",
       "      <th>1</th>\n",
       "      <td>I upgraded my XXXX XXXX card in XX/XX/2018 and...</td>\n",
       "      <td>Credit card or prepaid card</td>\n",
       "    </tr>\n",
       "    <tr>\n",
       "      <th>2</th>\n",
       "      <td>Chase Card was reported on XX/XX/2019. However...</td>\n",
       "      <td>Credit card or prepaid card</td>\n",
       "    </tr>\n",
       "    <tr>\n",
       "      <th>3</th>\n",
       "      <td>On XX/XX/2018, while trying to book a XXXX  XX...</td>\n",
       "      <td>Credit card or prepaid card</td>\n",
       "    </tr>\n",
       "    <tr>\n",
       "      <th>4</th>\n",
       "      <td>my grand son give me check for {$1600.00} i de...</td>\n",
       "      <td>Bank Account services</td>\n",
       "    </tr>\n",
       "  </tbody>\n",
       "</table>\n",
       "</div>"
      ],
      "text/plain": [
       "                             complaint_what_happened  \\\n",
       "0  Good morning my name is XXXX XXXX and I apprec...   \n",
       "1  I upgraded my XXXX XXXX card in XX/XX/2018 and...   \n",
       "2  Chase Card was reported on XX/XX/2019. However...   \n",
       "3  On XX/XX/2018, while trying to book a XXXX  XX...   \n",
       "4  my grand son give me check for {$1600.00} i de...   \n",
       "\n",
       "                         topic  \n",
       "0        Bank Account services  \n",
       "1  Credit card or prepaid card  \n",
       "2  Credit card or prepaid card  \n",
       "3  Credit card or prepaid card  \n",
       "4        Bank Account services  "
      ]
     },
     "execution_count": 8,
     "metadata": {},
     "output_type": "execute_result"
    }
   ],
   "source": [
    "# Load data\n",
    "df = pd.read_csv(\"../data/processed/labelled_texts.csv\")\n",
    "df = df[['complaint_what_happened', 'topic']]\n",
    "df.head()"
   ]
  },
  {
   "cell_type": "code",
   "execution_count": 20,
   "metadata": {},
   "outputs": [
    {
     "data": {
      "text/plain": [
       "str"
      ]
     },
     "execution_count": 20,
     "metadata": {},
     "output_type": "execute_result"
    }
   ],
   "source": [
    "type(df.loc[0, 'complaint_what_happened'])"
   ]
  },
  {
   "cell_type": "markdown",
   "metadata": {},
   "source": [
    "# Dataset Class"
   ]
  },
  {
   "cell_type": "code",
   "execution_count": 33,
   "metadata": {},
   "outputs": [],
   "source": [
    "from torch.utils.data import Dataset\n",
    "\n",
    "class CustomerComplaintsDataset(Dataset):\n",
    "    def __init__(self, csv_path: str) -> None:\n",
    "        super().__init__()\n",
    "        self.df = pd.read_csv(csv_path)\n",
    "    \n",
    "    def __len__(self):\n",
    "        return self.df.shape[0]\n",
    "\n",
    "    def __getitem__(self, idx):\n",
    "        text = self.df.loc[idx, 'complaint_what_happened']\n",
    "        label = self.df.loc[idx, 'topic']\n",
    "        return text, label"
   ]
  },
  {
   "cell_type": "code",
   "execution_count": 34,
   "metadata": {},
   "outputs": [],
   "source": [
    "from torch.utils.data import DataLoader\n",
    "dataset = CustomerComplaintsDataset(\"../data/processed/labelled_texts.csv\")\n",
    "dataloader = DataLoader(dataset, batch_size=16, shuffle=True)"
   ]
  },
  {
   "cell_type": "code",
   "execution_count": 35,
   "metadata": {},
   "outputs": [
    {
     "data": {
      "text/plain": [
       "[('On XX/XX/18, opened two accounts, one savings, one checking at Chase bank branch in Washignton, DC. At time of opening, a new account bonus code was provided, which banker said was invalid. Banker advised that I could obtain a new code, provide it within 10 days, and it would be no problem to apply it to the account. The code offers a financial incentive if certain conditions are met. On XX/XX/18, provided via email a new bonus code and was advised on XX/XX/18 by banker code was invalid. Upon review, I noticed a typographical error in the emailed bonus code and immediately replied to banker with the correct code and the photo of the code. To date, I have not received a response.',\n",
       "  'On XXXX XXXX,2017 I called Amazon chase company asked what the pay off was. They gave me the amount in which I paid ofc account. I then receive a bill for a interest payment for the next month. When card was paid off.',\n",
       "  'On XX/XX/2014 Chase Banking copy, s of my bank statements a loan That I know nothing about this company was taken money out of my account Rise they have been sued Chase bank put on XXXX I have sent letters to them also I have had fraudulent accounts from loans to credit cards I have sent copy to law frim to look at I did know any loans never gave any to take any money out of my accounts Chase will not working on this to delet account XXXX.',\n",
       "  'Chase did n\\'t have institutional controls in place to control its loan officer to ensure that our file was being addressed in the appropriate manner, leaving us the buyers short of our credits and forcing us to sign the contract to not lose our locked-in rate. We are contacting the CFPB as a result of the highly irregular practices, notices and policies. \\n\\nTo have submitted a contract with addenda that clearly indicated that our realtor was giving us a credit against the purchase and to be pushed to close, even though there was no CD delivered in a timely manner. We were suppose to know before what we owed, we are entitled and they are required to provide me with a complete breakdown at least 3 days before closing so we could have knowledge of the funds we needed to bring to the table and what our costs and expenses were suppose to be. The fact that the loan officer said to us verbally \" send more and the difference will be reimbursed \\'\\' indicates that he knew that we would not be afforded the credit based on underwriting issues that were not clarified to us. Also, the fact that Chase did not move timely while were in escrow and not subject to default - to finalize our file so we would be approved was wrong. The fact that the title company had to continuously call/email our loan officer to get information and they took it upon themselves to provide what they thought was needed to avoid delay is not right. ( Escrow notified Chase over 30 days before we were set to close that we had too many credits. Chase never informed us of this, in fact they called us the day of closing, with a 3 hour notice, to tell us we had too many credits. Then forced us to sign the contract to not lose our locked-in rate and not giving us enough time to find ways to use all of our credits. ) They also, violated the Federal Fair Housing Act as they acted on a stereotype, delaying our mortgage application as they found out the buyers were expecting. They called us and told us \" you did n\\'t tell me you were XXXX \\'\\' As if that would be an issue. Upon hearing of the news, Chase only made the female buyer prove she was returning to work after XXXX the child. Women should n\\'t have to choose between buying a home and exercising their right to have a family. They never requested the male to provide any proof even though both of us were on leave. In fact, we had to cut the paternity leave short by 6 weeks, in fear Chase would deny us the loan. Even though the male was never questioned to prove he would return to work or even assumed he would take a leave, as they were being sexist. They made assumptions. They acted very poorly in this manner. Nor did they listen to our pleas, when we stated the Female had XXXX ( plus paid family leave ) approved along with her company supplementing her full paycheck. We were forced to notify our job of our situation which is an uncomfortable place to be as not all employees like to tell their jobs of their personal matters, as it can place someone at a disadvantage for getting a raise. \\n\\nLastly, Chase acted against internal rules set in place by Chase, to communicate with buyers via company email and company phones. As those calls are all recorded. Our loan officer only made phone calls to us via his cell phone leaving us with no paper trail to further prove our point and to hide his unscrupulous behavior.',\n",
       "  'Vendor : AMAZON/CHASE On XX/XX/2020 I purchase a wrist watch by {$64.00} plus handling, shipping tax which amounted to {$78.00}. I returned the watch and on XX/XX/2020, Amazon informed that a REFUND was issued on XX/XX/2020 and watch received by vendor on XX/XX/2020. \\nPlease note that Amazon informed that a REFUND ( No \" Gift Card \\'\\' ) was issued and CHASE debited my account for the purchase and credited it for the refund. I was satisfied knowing that my AMAZON/CHASE account was refunded. \\nOn XX/XX/2020 I received a letter from CHASE informing that a charge back for the same amount {$78.00} was made due that A GIFT CARD WAS ISSUED for said amount and that I used it for other purchases. ( per today XX/XX/2020 phone conversation I was informed that I used said GIFT CARD to make 3 purchases and was given the items I bought which looks they in fact were purchased. \\nTHE PROBLEM IS : that Amazon used to gives reward points in the purchases customers made and I though that the credit I received in the 3 purchases was for the POINTS and not for a GIFT CARD they said they issued since I ignored and was not informed of such gift cards. ( See attachment that shows a REFUND was made NOT A GIFT CARD. \\nSUMMARY : Amazon should NOT ISSUED gift cards for returns but REFUND the value to whatever method of payment was used since gift card OBLIGE customer to continue purchasing. I feel deceived by the policy of AMAZON and I am DISPUTING THE CHARGE OF {$78.00} even if I unknowingly used the gift card they said issued thinking that the credits were for reward points.',\n",
       "  'On XXXX/XXXX/16 I arranged for a payment to be withdrawn from my bank account to Chase for the amount of {$100.00} to be posted on XXXX/XXXX/16. I was unable to get the money in my bank account so I cancelled payment online on XXXX/XXXX/16. I received email confirmation of the cancellation. However, on XXXX/XXXX/16, my bank showed NSF fee for {$28.00} due to Chase crediting my bank account {$100.00}. I contacted Chase and they said they had no record of my cancellation. After many \" secure messages \\'\\', a few phone calls, and having screenshots of my bank statement, cancellation page from Chase.com, and the cancellation confirmation email, they were persuaded I had indeed cancelled that payment of {$100.00} ( which I made two days later ) and that I was due {$28.00} for the NSF fee. COMPLAINT # 1 : When speaking to Chase, they refused to send the {$28.00} back to my bank which I had to pay. Instead they insisted it had to be put on my CC balance. The lady stated \" it still goes back to you \\'\\'. On the contrary, they closed my CC and I do not have access to it. They put it on my CC balance, but it did not go toward my next balance due date either. I WANT MY MONEY BACK IN MY POCKET OR BANK ACCOUNT! COMPLAINT # 2 : After looking through my bank records and seeing payments to Chase, my credit report, and the fact I had to prove I canceled a payment, I would like to call into question the security of Chase \\'s website : electronic payments, personal info., credit reporting, etc. I dispute ALL information Chase has reported to all XXXX credit bureaus and would like CFPB support. If Chase can lose one cancelled payment and claim it has NO RECORD AT ALL, it is reasonable to say that other information could be missing and/or could have been mishandled that is negatively effecting my credit report at this time. In addition, I am questioning my balance due and other charges that have been placed on my CC. Since Chase has closed my account, I would like CFPB support to clear my credit report of any record with Chase and push for a balance due of {$0.00}. My records indicate that the balance is not even half of what Chase states it is now. In conclusion, my complaints are directly from Chase \\'s incompetency in quality assurance, customer support, and customer/website security. I would appreciate your help in this matter, thank you.',\n",
       "  \"I received an active credit card in my name mailed to my house. A Chase Amazon card in which I have never did business with XXXX. In my profile my email address was changed. I have been getting a run around when I try to find out why the card was sent in the first place. Who ordered the Card? Who changed my email address? and How did they get past my security question? Here is a Company that just sends a card to your house that your not expecting and if stolen ... This is a Major concern and if they are just sending cards out because it 's rates are more COMPANY friendly than the one I already have. I have called a number of times on the phone for sometime with the security specialist and when I ask for the information about the card they want to transfer me to credit card applications. and every time they transfer you, they want more of your information. I still have n't received and information that I requested regarding this unsolicited credit card.\",\n",
       "  'I received a promotional offer with no interest or transfer fees, etc for a year upon opening of my account. However, I have been charged XXXX in fees and {$440.00} in interest YTD and despite efforts to have them credited, have not been successful. \\n\\nI was told I should have called in advance to get a better explanation of the cash advance terms as they prefer that we call before using. As a new card member, I find this to be deceptive advertising and request that the interest and fees be removed.',\n",
       "  'I believe the company is possibly involved in an unfair and illegal practices when it comes to consumer credit cards. I was sent a pre-approval from Chase due to my excellent credit, which I accepted. After completing the application, I was informed that I was approved for a $ XXXX credit limit. After receiving the physical card in the mail, I created my online account and discovered that the card shows as \" closed \\'\\'. I called Chase customer service department to inquire as to the reason. After being transferred numerous times, and speaking to numerous associates, I was finally advised that the card has been closed due to the bank \\'s discretion and that I my credit history does n\\'t meet the chase preferred credit card requirements. This upset me as I was just approved 4-5 days earlier and had not even had a chance to use the card. If there was something in my credit history to condone closing of the card, this should have been done in the 1st place and the application should have been not approved/declined. Now Chase card appears on all of my credit bureau accounts as a closed card by the creditor. It is my understanding that its an illegal practice, much like what XXXX XXXX has been doing and has been fined by the US government. Chase bank approved my application, their associate received the credit for it, and now 4 days later they are closing the card and impacting me credit history negatively.',\n",
       "  'I keep receiving phone calls from a third party company telling me to contact XXXX XXXX XXXX. when I called XXXX XXXX XXXX today they claim I owe a debt from 2001 to XXXX XXXX. I do not have any memory of any such debt from 2001 I have paid my debts. The last time I called asked them to mail any information to me, all I have received are more phone calls? nothing in writing.',\n",
       "  'VERY URGENT! I set up a checking account with Bank One in XXXX XXXX. With this kind of account I had been told that if I keep a minimum balance of XXXX USD it will be free of charge - meaning my monthly service fee will be waived ( see explanation on statement ) .Received statements from Bank One until XXXX XXXX to my address in XXXX and a letter in XXXX to sign and return to keep it active what I did immediately. Received letter in XXXX signed and returned asap. Received letter in XXXX included a new VISA check card from Chase XXXX which I ca n\\'t use in XXXX XXXX. This is how I got informed that Bank One now became Chase Bank. I received NO other information! Received letter in XXXX signed and returned asap. The balance on this document had been the same balance since XXXX! Got a letter in XXXX with a new Chase Visa Check Card. In XXXX XXXX received again a letter to sign and return what I did asap. On this statement my balance showed an amount less than the statement before. Unfortunately I XXXX could not take care of such matters. Now I XXXX will travel XXXX in XXXX XXXX. I called and emailed to Chase Bank in XXXX XXXX to find out why they had started taking monthly fees of my account all of a sudden without informing me of everything. \\nXXXX ) I did not get any serious information that Bank One had become Chase Bank. \\nXXXX ) Then in XXXX they just changed my account status and started charging me with monthly fee of XXXX $ on my bank account. \\nXXXX ) I did not get informed by Chase Bank about any changes until my call in XXXX XXXX! \\nXXXX ) I did not sign an agreement for changing my bank account status with Chase Bank. So they made unauthorized transactions. \\nXXXX XXXX The amount on my account has dropped of nearly half the amount I did put in the account XXXX ( without me taking any money out from it XXXX. \\nThis is why I am writing to you. I have included a time schedule report about my activities to Chase Bank. I did not get any response on my complaint but received a letter from Chase Bank end of XXXX XXXX instead, informing me about their \" Additional Banking Services and Fees \\'\\' which really does not help me at all. Also you will find copies of documents I have received from either Bank One or Chase Bank. \\nI will travel XXXX in XXXX XXXX and would be happy if the matter could be solved by then because I do n\\'t know when I will have to opportunity to come back. And probably I have to do anything about my account \" personally \\'\\' in the bank office XXXX meaning taking money off or deposit money ) because I am living XXXX and this is why I want to have the total amount back I owed when I set up the account by this time and the problem solved. Hopefully you can help me. Thank you very much in advance.',\n",
       "  'The balance on my XX/XX/2019 credit card ( ending XXXX ) statement was {$20000.00}. XXXX of this was 0 APR balance transfer. The rest is {$640.00} for purchases and fees. \\nI paid XXXX dollars for this statement. XXXX dollars ( more than what I paid ) is applied to the 0-APR. So my 0-APR balance decreased by XXXX dollars. The high APR part is increased from XXXX to XXXX.',\n",
       "  \"On XXXX XXXX 2015 I paid {$1000.00} for trading company XXXX On XXXX XXXX 2015 I ordered withdrawal all my deposit, but they cancelled my request. On XXXX XXXX I ordered second withdrawal and this request was approved. They promise people money transfer XXXX7 days, but I did not received my money back. I contacted them on XXXX XXXX and they said that this transaction was approved on XXXX XXXX and was paid. I should received the money any day. Unfortunately, I did not received my money back. \\nToday is XXXX month as they promised my money back and I think that they cheating me. In this case I was in Chase bank and asked for help. The banker called to an specialist but the person said that they rejected my claim because I do n't have any demanded proof. Such proof must be letter only, copy of email, no screen shot copy. \\nSo, from this next case I did not received any confirmation, any explanation from Chase bank. \\n\\nThis is next proof that they discriminate me. Online transactions always where are and I believe will be mostly based on online documentation and such documents must be respect as proof. \\n\\nThe XXXX is part of XXXX XXXX, which confused me in bank statement, because payment for XXXX is listed as XXXX XXXX, but I have conflict also with XXXX which also stole my money, however, this case will be in my next complaint.\",\n",
       "  \"Hi, yesterday I found all my chase credit cards were closed without getting noticed. I am very disappointed to what chase has done to me as a very loyal customer. I have never paid my credit card late. And I maintain my FICO credit score above XXXX. Chase is my primary creditor, I will lose all my credit history if chase decide to close all my accounts. My spending on credit card are very normal, no gift card purchase at all. I read through chase credit card agreements. I don't act any violation on any item on the agreement.\",\n",
       "  'XX/XX/2015My wife and I have a Mortgage held jointly. However we bank separately, she has a Chase account and I a XXXX account. We both write a check from our individual checking accounts to pay our mortgage with Chase, account number XXXX. \\nOn XXXX XXXX, 2015 my wife walked in the payment to a Chase Branch and handed both checks to the teller. A few weeks later we receive a letter from Chase telling us our account is delinquent. That XXXX of the checks, my check from my XXXX account, was an ISF check. I knew that was a lie because I had the funds to cover my check plus {$6000.00} worth of overdraft protection. More than enough to cover a {$770.00} check. I started to investigate and saw that our mortgage account was credited for the full payment on XXXX XXXX 2015, and then 6 days later it was reversed and labeled a \" Misapplied Payment. My wife noticed her check cleared her account but my check was never presented to XXXX for processing. I called the Chase help desk and explained that my check was not an ISF check and asked where my check was. No one could tell me. They also said an investigation can take three weeks. I asked to speak with Supervisors and went through XXXX individuals, the last of which changed the alibi from a ISF check to that XXXX refused to process the check. XXXX told me my check was never presented for processing. Still no sign of my check. Now Chase hit my credit report with a negative post as being Delinquent. My credit rating went down by XXXX points from an \" Excellent \\'\\' to a \" Good \\'\\' rating and all of this without any indication of what happened to my check that was handed to a teller at Chase branch in XXXX New York. Meanwhile Chase had my wife \\'s check of {$770.00} and did not credit our mortgage account with those funds. I finally reached an Assistant Vice President by the name of XXXX XXXX. Within an half hour she saw that it was a Bank error and told me the scanner at the branch was not able to read the numbers on the check accurately and the teller should have realized the problem right away. XXXX XXXX told me that Chase would reverse all negative postings to my credit report and that all I needed to da was provide Chase with another check, which I did on XXXX XXXX, 2015. \\nHow can a bank hit your credit report in a negative manner without even concluding an investigation? I have heard stories of people have major problems with correcting errors on their credit report, is Chase going to help me with this problem if it occurs. Chase should be fined due to their lack of professional behavior with this issue. Labeling my payment as an ISF entitled them to collect fees and this was the first excuse for the problem which turned out to be an error on the banks part. Up to this date, I still do not have my original check, copy or hard copy. Should I put a stop payment? Is Chase going to pay the fee for the stop payment? Ridiculous, the public bails out these banks and they continue to behave in a way that only is to their benefit. I need them to be held accountable.',\n",
       "  'On MondayXX/XX/XXXX I found an add for XXXX  tickets on XXXX and I texted the seller who went by XXXX XXXX he told me he was willing to sell me a ticket for {$240.00} if i was willing to use XXXX. today XX/XX/XXXX i text the seller again I receive the payment information, and we decide on a meeting point so that we could start the transaction, I was given his email address XXXX I proceeded to send him the payment and am told that he will be at the meeting place in 45 minutes. He texts me claiming he is pulling in, and then blocks my phone number so that i can not contact him.'),\n",
       " ('Bank Account services',\n",
       "  'Mortgage/Loan',\n",
       "  'Others',\n",
       "  'Others',\n",
       "  'Theft/Dispute Reporting',\n",
       "  'Mortgage/Loan',\n",
       "  'Credit card or prepaid card',\n",
       "  'Theft/Dispute Reporting',\n",
       "  'Credit card or prepaid card',\n",
       "  'Others',\n",
       "  'Bank Account services',\n",
       "  'Theft/Dispute Reporting',\n",
       "  'Bank Account services',\n",
       "  'Credit card or prepaid card',\n",
       "  'Bank Account services',\n",
       "  'Mortgage/Loan')]"
      ]
     },
     "execution_count": 35,
     "metadata": {},
     "output_type": "execute_result"
    }
   ],
   "source": [
    "next(iter(dataloader))"
   ]
  },
  {
   "cell_type": "code",
   "execution_count": null,
   "metadata": {},
   "outputs": [],
   "source": []
  }
 ],
 "metadata": {
  "kernelspec": {
   "display_name": "customer-complaints-classification-env",
   "language": "python",
   "name": "python3"
  },
  "language_info": {
   "codemirror_mode": {
    "name": "ipython",
    "version": 3
   },
   "file_extension": ".py",
   "mimetype": "text/x-python",
   "name": "python",
   "nbconvert_exporter": "python",
   "pygments_lexer": "ipython3",
   "version": "3.10.14"
  }
 },
 "nbformat": 4,
 "nbformat_minor": 2
}

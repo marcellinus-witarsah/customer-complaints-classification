{
 "cells": [
  {
   "cell_type": "code",
   "execution_count": 1,
   "metadata": {},
   "outputs": [
    {
     "name": "stderr",
     "output_type": "stream",
     "text": [
      "/home/awmarcel/miniconda3/envs/torch-env/lib/python3.10/site-packages/numpy/_core/getlimits.py:545: UserWarning: Signature b'\\x00\\xd0\\xcc\\xcc\\xcc\\xcc\\xcc\\xcc\\xfb\\xbf\\x00\\x00\\x00\\x00\\x00\\x00' for <class 'numpy.longdouble'> does not match any known type: falling back to type probe function.\n",
      "This warnings indicates broken support for the dtype!\n",
      "  machar = _get_machar(dtype)\n",
      "[nltk_data] Downloading package punkt to /home/awmarcel/nltk_data...\n",
      "[nltk_data]   Package punkt is already up-to-date!\n",
      "[nltk_data] Downloading package stopwords to\n",
      "[nltk_data]     /home/awmarcel/nltk_data...\n",
      "[nltk_data]   Package stopwords is already up-to-date!\n",
      "[nltk_data] Downloading package wordnet to /home/awmarcel/nltk_data...\n",
      "[nltk_data]   Package wordnet is already up-to-date!\n"
     ]
    },
    {
     "data": {
      "text/plain": [
       "True"
      ]
     },
     "execution_count": 1,
     "metadata": {},
     "output_type": "execute_result"
    }
   ],
   "source": [
    "import time\n",
    "import json\n",
    "import string\n",
    "import pandas as pd\n",
    "import numpy as np\n",
    "import matplotlib.pyplot as plt\n",
    "import nltk\n",
    "from nltk import word_tokenize\n",
    "from nltk.corpus import stopwords\n",
    "from nltk.stem import WordNetLemmatizer\n",
    "from wordcloud import WordCloud\n",
    "\n",
    "\n",
    "# download stopwords\n",
    "nltk.download('punkt')\n",
    "nltk.download('stopwords')\n",
    "nltk.download('wordnet')"
   ]
  },
  {
   "cell_type": "code",
   "execution_count": 2,
   "metadata": {},
   "outputs": [],
   "source": [
    "# Functions\n",
    "def convert_json_to_pandas(file_path: str) -> pd.DataFrame:\n",
    "    with open(file_path, 'r') as f:\n",
    "        data = json.load(f) \n",
    "        return pd.json_normalize(data)"
   ]
  },
  {
   "cell_type": "code",
   "execution_count": 3,
   "metadata": {},
   "outputs": [],
   "source": [
    "# Load data:\n",
    "df = convert_json_to_pandas('../data/raw/complaints-2021-05-14_08_16_.json')\n",
    "\n",
    "# Rename columns:\n",
    "df.columns = [\n",
    "    'index', 'type', 'id', 'score', 'tags', 'zip_code',\n",
    "    'complaint_id', 'issue', 'date_received', 'state', \n",
    "    'consumer_disputed', 'product', 'company_response', \n",
    "    'company', 'submitted_via', 'date_sent_to_company', \n",
    "    'company_public_response', 'sub_product', 'timely',\n",
    "    'complaint_what_happened', 'sub_issue', 'consumer_consent_provided'\n",
    "]\n",
    "\n",
    "# Handle missing values:\n",
    "df['complaint_what_happened'] = df['complaint_what_happened'].fillna(np.nan)\n",
    "df = df[df.consumer_consent_provided == 'Consent provided'].reset_index(drop=True)"
   ]
  },
  {
   "cell_type": "code",
   "execution_count": 4,
   "metadata": {},
   "outputs": [],
   "source": [
    "lemmatizer = WordNetLemmatizer()\n",
    "\n",
    "# Function:\n",
    "def preprocess_text(text: str, stop_words: list, punctuations: list) -> str:\n",
    "    # Tokenize text:\n",
    "    tokens = word_tokenize(text.lower())\n",
    "    \n",
    "    # Remove stop words and punctuations:\n",
    "    filtered_tokens = [\n",
    "        token\n",
    "        for token in tokens\n",
    "        if token not in stop_words and token not in punctuations\n",
    "    ]  \n",
    "    \n",
    "    # Lemmatization:\n",
    "    lemmatized_tokens = [lemmatizer.lemmatize(token) for token in filtered_tokens]\n",
    "    return \" \".join(lemmatized_tokens)\n"
   ]
  },
  {
   "cell_type": "code",
   "execution_count": 6,
   "metadata": {},
   "outputs": [
    {
     "name": "stdout",
     "output_type": "stream",
     "text": [
      "Text preprocessing took: 40.0 s\n"
     ]
    }
   ],
   "source": [
    "# Prepare texts, stop words and punctuations\n",
    "texts = df['complaint_what_happened'].tolist()\n",
    "stop_words = stopwords.words(\"english\")\n",
    "punctuations = string.punctuation\n",
    "\n",
    "# Text preprocessing:\n",
    "start = time.perf_counter()\n",
    "cleaned_texts = [preprocess_text(text, stop_words, punctuations) for text in texts]\n",
    "end = time.perf_counter()\n",
    "print(f\"Text preprocessing took: {end-start:.1f} s\")"
   ]
  },
  {
   "cell_type": "code",
   "execution_count": null,
   "metadata": {},
   "outputs": [],
   "source": [
    "# Create and generate a word cloud image:\n",
    "wordcloud = WordCloud().generate(str(texts))\n",
    "\n",
    "# Display the generated image:\n",
    "plt.imshow(wordcloud, interpolation='bilinear')\n",
    "plt.title(\"Word Cloud\")\n",
    "plt.axis(\"off\")\n",
    "plt.show()"
   ]
  }
 ],
 "metadata": {
  "kernelspec": {
   "display_name": "torch-env",
   "language": "python",
   "name": "python3"
  },
  "language_info": {
   "codemirror_mode": {
    "name": "ipython",
    "version": 3
   },
   "file_extension": ".py",
   "mimetype": "text/x-python",
   "name": "python",
   "nbconvert_exporter": "python",
   "pygments_lexer": "ipython3",
   "version": "3.10.14"
  }
 },
 "nbformat": 4,
 "nbformat_minor": 2
}
